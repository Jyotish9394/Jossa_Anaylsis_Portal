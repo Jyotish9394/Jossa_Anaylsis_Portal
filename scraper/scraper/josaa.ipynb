{
 "cells": [
  {
   "cell_type": "code",
   "execution_count": 1,
   "id": "03cf2ed7",
   "metadata": {},
   "outputs": [],
   "source": [
    "import numpy as np\n",
    "import pandas as pd"
   ]
  },
  {
   "cell_type": "code",
   "execution_count": 11,
   "id": "66ce3c86",
   "metadata": {},
   "outputs": [],
   "source": [
    "df=pd.read_csv('data.csv')"
   ]
  },
  {
   "cell_type": "code",
   "execution_count": 12,
   "id": "71c1c6ab",
   "metadata": {},
   "outputs": [
    {
     "data": {
      "text/plain": [
       "Index(['Institute', 'Academic Program Name', 'Quota', 'Seat Type', 'Gender',\n",
       "       'Opening Rank', 'Closing Rank', 'Year', 'Round'],\n",
       "      dtype='object')"
      ]
     },
     "execution_count": 12,
     "metadata": {},
     "output_type": "execute_result"
    }
   ],
   "source": [
    "df.columns"
   ]
  },
  {
   "cell_type": "code",
   "execution_count": 13,
   "id": "d54095fc",
   "metadata": {},
   "outputs": [
    {
     "data": {
      "text/plain": [
       "Institute                object\n",
       "Academic Program Name    object\n",
       "Quota                    object\n",
       "Seat Type                object\n",
       "Gender                   object\n",
       "Opening Rank             object\n",
       "Closing Rank             object\n",
       "Year                      int64\n",
       "Round                     int64\n",
       "dtype: object"
      ]
     },
     "execution_count": 13,
     "metadata": {},
     "output_type": "execute_result"
    }
   ],
   "source": [
    "df.dtypes"
   ]
  },
  {
   "cell_type": "code",
   "execution_count": 14,
   "id": "566adcac",
   "metadata": {},
   "outputs": [
    {
     "data": {
      "text/html": [
       "<div>\n",
       "<style scoped>\n",
       "    .dataframe tbody tr th:only-of-type {\n",
       "        vertical-align: middle;\n",
       "    }\n",
       "\n",
       "    .dataframe tbody tr th {\n",
       "        vertical-align: top;\n",
       "    }\n",
       "\n",
       "    .dataframe thead th {\n",
       "        text-align: right;\n",
       "    }\n",
       "</style>\n",
       "<table border=\"1\" class=\"dataframe\">\n",
       "  <thead>\n",
       "    <tr style=\"text-align: right;\">\n",
       "      <th></th>\n",
       "      <th>Year</th>\n",
       "      <th>Round</th>\n",
       "    </tr>\n",
       "  </thead>\n",
       "  <tbody>\n",
       "    <tr>\n",
       "      <th>count</th>\n",
       "      <td>94611.000000</td>\n",
       "      <td>94611.000000</td>\n",
       "    </tr>\n",
       "    <tr>\n",
       "      <th>mean</th>\n",
       "      <td>2019.509846</td>\n",
       "      <td>3.698280</td>\n",
       "    </tr>\n",
       "    <tr>\n",
       "      <th>std</th>\n",
       "      <td>1.830399</td>\n",
       "      <td>1.850572</td>\n",
       "    </tr>\n",
       "    <tr>\n",
       "      <th>min</th>\n",
       "      <td>2016.000000</td>\n",
       "      <td>1.000000</td>\n",
       "    </tr>\n",
       "    <tr>\n",
       "      <th>25%</th>\n",
       "      <td>2018.000000</td>\n",
       "      <td>2.000000</td>\n",
       "    </tr>\n",
       "    <tr>\n",
       "      <th>50%</th>\n",
       "      <td>2020.000000</td>\n",
       "      <td>4.000000</td>\n",
       "    </tr>\n",
       "    <tr>\n",
       "      <th>75%</th>\n",
       "      <td>2021.000000</td>\n",
       "      <td>5.000000</td>\n",
       "    </tr>\n",
       "    <tr>\n",
       "      <th>max</th>\n",
       "      <td>2022.000000</td>\n",
       "      <td>7.000000</td>\n",
       "    </tr>\n",
       "  </tbody>\n",
       "</table>\n",
       "</div>"
      ],
      "text/plain": [
       "               Year         Round\n",
       "count  94611.000000  94611.000000\n",
       "mean    2019.509846      3.698280\n",
       "std        1.830399      1.850572\n",
       "min     2016.000000      1.000000\n",
       "25%     2018.000000      2.000000\n",
       "50%     2020.000000      4.000000\n",
       "75%     2021.000000      5.000000\n",
       "max     2022.000000      7.000000"
      ]
     },
     "execution_count": 14,
     "metadata": {},
     "output_type": "execute_result"
    }
   ],
   "source": [
    "df.describe()"
   ]
  },
  {
   "cell_type": "code",
   "execution_count": 15,
   "id": "94d25d81",
   "metadata": {},
   "outputs": [],
   "source": [
    "df=df[[ 'Institute', 'Academic Program Name', 'Quota',\n",
    "       'Seat Type', 'Gender', 'Opening Rank', 'Closing Rank', 'Year', 'Round']].copy()"
   ]
  },
  {
   "cell_type": "code",
   "execution_count": 16,
   "id": "d2136148",
   "metadata": {},
   "outputs": [
    {
     "data": {
      "text/html": [
       "<div>\n",
       "<style scoped>\n",
       "    .dataframe tbody tr th:only-of-type {\n",
       "        vertical-align: middle;\n",
       "    }\n",
       "\n",
       "    .dataframe tbody tr th {\n",
       "        vertical-align: top;\n",
       "    }\n",
       "\n",
       "    .dataframe thead th {\n",
       "        text-align: right;\n",
       "    }\n",
       "</style>\n",
       "<table border=\"1\" class=\"dataframe\">\n",
       "  <thead>\n",
       "    <tr style=\"text-align: right;\">\n",
       "      <th></th>\n",
       "      <th>Quota</th>\n",
       "    </tr>\n",
       "  </thead>\n",
       "  <tbody>\n",
       "    <tr>\n",
       "      <th>0</th>\n",
       "      <td>AI</td>\n",
       "    </tr>\n",
       "    <tr>\n",
       "      <th>1</th>\n",
       "      <td>AI</td>\n",
       "    </tr>\n",
       "    <tr>\n",
       "      <th>2</th>\n",
       "      <td>AI</td>\n",
       "    </tr>\n",
       "    <tr>\n",
       "      <th>3</th>\n",
       "      <td>AI</td>\n",
       "    </tr>\n",
       "    <tr>\n",
       "      <th>4</th>\n",
       "      <td>AI</td>\n",
       "    </tr>\n",
       "    <tr>\n",
       "      <th>...</th>\n",
       "      <td>...</td>\n",
       "    </tr>\n",
       "    <tr>\n",
       "      <th>94606</th>\n",
       "      <td>AI</td>\n",
       "    </tr>\n",
       "    <tr>\n",
       "      <th>94607</th>\n",
       "      <td>AI</td>\n",
       "    </tr>\n",
       "    <tr>\n",
       "      <th>94608</th>\n",
       "      <td>AI</td>\n",
       "    </tr>\n",
       "    <tr>\n",
       "      <th>94609</th>\n",
       "      <td>AI</td>\n",
       "    </tr>\n",
       "    <tr>\n",
       "      <th>94610</th>\n",
       "      <td>NaN</td>\n",
       "    </tr>\n",
       "  </tbody>\n",
       "</table>\n",
       "<p>94611 rows × 1 columns</p>\n",
       "</div>"
      ],
      "text/plain": [
       "      Quota\n",
       "0        AI\n",
       "1        AI\n",
       "2        AI\n",
       "3        AI\n",
       "4        AI\n",
       "...     ...\n",
       "94606    AI\n",
       "94607    AI\n",
       "94608    AI\n",
       "94609    AI\n",
       "94610   NaN\n",
       "\n",
       "[94611 rows x 1 columns]"
      ]
     },
     "execution_count": 16,
     "metadata": {},
     "output_type": "execute_result"
    }
   ],
   "source": [
    "df[['Quota']]"
   ]
  },
  {
   "cell_type": "code",
   "execution_count": 17,
   "id": "14e7c008",
   "metadata": {},
   "outputs": [],
   "source": [
    "df=df.drop('Quota',axis=1)"
   ]
  },
  {
   "cell_type": "code",
   "execution_count": 18,
   "id": "4f3de065",
   "metadata": {},
   "outputs": [
    {
     "data": {
      "text/html": [
       "<div>\n",
       "<style scoped>\n",
       "    .dataframe tbody tr th:only-of-type {\n",
       "        vertical-align: middle;\n",
       "    }\n",
       "\n",
       "    .dataframe tbody tr th {\n",
       "        vertical-align: top;\n",
       "    }\n",
       "\n",
       "    .dataframe thead th {\n",
       "        text-align: right;\n",
       "    }\n",
       "</style>\n",
       "<table border=\"1\" class=\"dataframe\">\n",
       "  <thead>\n",
       "    <tr style=\"text-align: right;\">\n",
       "      <th></th>\n",
       "      <th>Institute</th>\n",
       "      <th>Academic Program Name</th>\n",
       "      <th>Seat Type</th>\n",
       "      <th>Gender</th>\n",
       "      <th>Opening Rank</th>\n",
       "      <th>Closing Rank</th>\n",
       "      <th>Year</th>\n",
       "      <th>Round</th>\n",
       "    </tr>\n",
       "  </thead>\n",
       "  <tbody>\n",
       "    <tr>\n",
       "      <th>0</th>\n",
       "      <td>Indian Institute  of Technology Bhubaneswar</td>\n",
       "      <td>Civil Engineering (4 Years, Bachelor of Techno...</td>\n",
       "      <td>OPEN</td>\n",
       "      <td>NaN</td>\n",
       "      <td>3533</td>\n",
       "      <td>5947</td>\n",
       "      <td>2016</td>\n",
       "      <td>1</td>\n",
       "    </tr>\n",
       "    <tr>\n",
       "      <th>1</th>\n",
       "      <td>Indian Institute  of Technology Bhubaneswar</td>\n",
       "      <td>Civil Engineering (4 Years, Bachelor of Techno...</td>\n",
       "      <td>OBC-NCL</td>\n",
       "      <td>NaN</td>\n",
       "      <td>1829</td>\n",
       "      <td>2213</td>\n",
       "      <td>2016</td>\n",
       "      <td>1</td>\n",
       "    </tr>\n",
       "    <tr>\n",
       "      <th>2</th>\n",
       "      <td>Indian Institute  of Technology Bhubaneswar</td>\n",
       "      <td>Civil Engineering (4 Years, Bachelor of Techno...</td>\n",
       "      <td>SC</td>\n",
       "      <td>NaN</td>\n",
       "      <td>663</td>\n",
       "      <td>1023</td>\n",
       "      <td>2016</td>\n",
       "      <td>1</td>\n",
       "    </tr>\n",
       "    <tr>\n",
       "      <th>3</th>\n",
       "      <td>Indian Institute  of Technology Bhubaneswar</td>\n",
       "      <td>Civil Engineering (4 Years, Bachelor of Techno...</td>\n",
       "      <td>ST</td>\n",
       "      <td>NaN</td>\n",
       "      <td>331</td>\n",
       "      <td>357</td>\n",
       "      <td>2016</td>\n",
       "      <td>1</td>\n",
       "    </tr>\n",
       "    <tr>\n",
       "      <th>4</th>\n",
       "      <td>Indian Institute  of Technology Bhubaneswar</td>\n",
       "      <td>Civil Engineering and M. Tech. in Structural E...</td>\n",
       "      <td>OPEN</td>\n",
       "      <td>NaN</td>\n",
       "      <td>5408</td>\n",
       "      <td>6561</td>\n",
       "      <td>2016</td>\n",
       "      <td>1</td>\n",
       "    </tr>\n",
       "  </tbody>\n",
       "</table>\n",
       "</div>"
      ],
      "text/plain": [
       "                                     Institute  \\\n",
       "0  Indian Institute  of Technology Bhubaneswar   \n",
       "1  Indian Institute  of Technology Bhubaneswar   \n",
       "2  Indian Institute  of Technology Bhubaneswar   \n",
       "3  Indian Institute  of Technology Bhubaneswar   \n",
       "4  Indian Institute  of Technology Bhubaneswar   \n",
       "\n",
       "                               Academic Program Name Seat Type Gender  \\\n",
       "0  Civil Engineering (4 Years, Bachelor of Techno...      OPEN    NaN   \n",
       "1  Civil Engineering (4 Years, Bachelor of Techno...   OBC-NCL    NaN   \n",
       "2  Civil Engineering (4 Years, Bachelor of Techno...        SC    NaN   \n",
       "3  Civil Engineering (4 Years, Bachelor of Techno...        ST    NaN   \n",
       "4  Civil Engineering and M. Tech. in Structural E...      OPEN    NaN   \n",
       "\n",
       "  Opening Rank Closing Rank  Year  Round  \n",
       "0         3533         5947  2016      1  \n",
       "1         1829         2213  2016      1  \n",
       "2          663         1023  2016      1  \n",
       "3          331          357  2016      1  \n",
       "4         5408         6561  2016      1  "
      ]
     },
     "execution_count": 18,
     "metadata": {},
     "output_type": "execute_result"
    }
   ],
   "source": [
    "df.head()"
   ]
  },
  {
   "cell_type": "code",
   "execution_count": 19,
   "id": "71268cb4",
   "metadata": {},
   "outputs": [],
   "source": [
    "df=df.assign(Preparatory=False)"
   ]
  },
  {
   "cell_type": "code",
   "execution_count": 21,
   "id": "7081f5cc",
   "metadata": {},
   "outputs": [
    {
     "data": {
      "text/plain": [
       "5428"
      ]
     },
     "execution_count": 21,
     "metadata": {},
     "output_type": "execute_result"
    }
   ],
   "source": [
    "df['Opening Rank'].str.contains('P').sum()"
   ]
  },
  {
   "cell_type": "code",
   "execution_count": 23,
   "id": "6da12a05",
   "metadata": {},
   "outputs": [],
   "source": [
    "df.loc[df['Opening Rank'].str.contains('P', na=False), 'Preparatory'] = True"
   ]
  },
  {
   "cell_type": "code",
   "execution_count": 24,
   "id": "435856a1",
   "metadata": {},
   "outputs": [],
   "source": [
    "df['Opening Rank']=df['Opening Rank'].str.replace('P',(''))"
   ]
  },
  {
   "cell_type": "code",
   "execution_count": 25,
   "id": "ae71323b",
   "metadata": {},
   "outputs": [],
   "source": [
    "df['Closing Rank']=df['Closing Rank'].str.replace('P',(''))"
   ]
  },
  {
   "cell_type": "code",
   "execution_count": 35,
   "id": "98c5cc5c",
   "metadata": {},
   "outputs": [],
   "source": [
    "df['Closing Rank'] = pd.to_numeric(df['Closing Rank'], errors='coerce')"
   ]
  },
  {
   "cell_type": "code",
   "execution_count": 37,
   "id": "aa3c5baf",
   "metadata": {},
   "outputs": [],
   "source": [
    "df = df.dropna(subset=['Closing Rank'])"
   ]
  },
  {
   "cell_type": "code",
   "execution_count": 38,
   "id": "eac2766a",
   "metadata": {},
   "outputs": [],
   "source": [
    "df['Closing Rank'] = df['Closing Rank'].astype(np.int64)"
   ]
  },
  {
   "cell_type": "code",
   "execution_count": 39,
   "id": "733fe11c",
   "metadata": {},
   "outputs": [],
   "source": [
    "df['Opening Rank'] = pd.to_numeric(df['Opening Rank'], errors='coerce')"
   ]
  },
  {
   "cell_type": "code",
   "execution_count": 40,
   "id": "3d89f46f",
   "metadata": {},
   "outputs": [],
   "source": [
    "df = df.dropna(subset=['Opening Rank'])"
   ]
  },
  {
   "cell_type": "code",
   "execution_count": 41,
   "id": "15591acf",
   "metadata": {},
   "outputs": [],
   "source": [
    "df['Opening Rank'] = df['Opening Rank'].astype(np.int64)"
   ]
  },
  {
   "cell_type": "code",
   "execution_count": 42,
   "id": "59379d21",
   "metadata": {},
   "outputs": [
    {
     "data": {
      "text/plain": [
       "Institute                object\n",
       "Academic Program Name    object\n",
       "Seat Type                object\n",
       "Gender                   object\n",
       "Opening Rank              int64\n",
       "Closing Rank              int64\n",
       "Year                      int64\n",
       "Round                     int64\n",
       "Preparatory                bool\n",
       "Institute_type           object\n",
       "dtype: object"
      ]
     },
     "execution_count": 42,
     "metadata": {},
     "output_type": "execute_result"
    }
   ],
   "source": [
    "df.dtypes\n"
   ]
  },
  {
   "cell_type": "code",
   "execution_count": 43,
   "id": "043ef60a",
   "metadata": {},
   "outputs": [],
   "source": [
    "df=df.assign(Institute_type='IIT')"
   ]
  },
  {
   "cell_type": "code",
   "execution_count": 44,
   "id": "1c651c33",
   "metadata": {},
   "outputs": [],
   "source": [
    "df.to_csv('final.csv')"
   ]
  },
  {
   "cell_type": "code",
   "execution_count": 45,
   "id": "1a3d41c3",
   "metadata": {},
   "outputs": [
    {
     "data": {
      "text/html": [
       "<div>\n",
       "<style scoped>\n",
       "    .dataframe tbody tr th:only-of-type {\n",
       "        vertical-align: middle;\n",
       "    }\n",
       "\n",
       "    .dataframe tbody tr th {\n",
       "        vertical-align: top;\n",
       "    }\n",
       "\n",
       "    .dataframe thead th {\n",
       "        text-align: right;\n",
       "    }\n",
       "</style>\n",
       "<table border=\"1\" class=\"dataframe\">\n",
       "  <thead>\n",
       "    <tr style=\"text-align: right;\">\n",
       "      <th></th>\n",
       "      <th>Institute</th>\n",
       "      <th>Academic Program Name</th>\n",
       "      <th>Seat Type</th>\n",
       "      <th>Gender</th>\n",
       "      <th>Opening Rank</th>\n",
       "      <th>Closing Rank</th>\n",
       "      <th>Year</th>\n",
       "      <th>Round</th>\n",
       "      <th>Preparatory</th>\n",
       "      <th>Institute_type</th>\n",
       "    </tr>\n",
       "  </thead>\n",
       "  <tbody>\n",
       "    <tr>\n",
       "      <th>0</th>\n",
       "      <td>Indian Institute  of Technology Bhubaneswar</td>\n",
       "      <td>Civil Engineering (4 Years, Bachelor of Techno...</td>\n",
       "      <td>OPEN</td>\n",
       "      <td>NaN</td>\n",
       "      <td>3533</td>\n",
       "      <td>5947</td>\n",
       "      <td>2016</td>\n",
       "      <td>1</td>\n",
       "      <td>False</td>\n",
       "      <td>IIT</td>\n",
       "    </tr>\n",
       "    <tr>\n",
       "      <th>1</th>\n",
       "      <td>Indian Institute  of Technology Bhubaneswar</td>\n",
       "      <td>Civil Engineering (4 Years, Bachelor of Techno...</td>\n",
       "      <td>OBC-NCL</td>\n",
       "      <td>NaN</td>\n",
       "      <td>1829</td>\n",
       "      <td>2213</td>\n",
       "      <td>2016</td>\n",
       "      <td>1</td>\n",
       "      <td>False</td>\n",
       "      <td>IIT</td>\n",
       "    </tr>\n",
       "    <tr>\n",
       "      <th>2</th>\n",
       "      <td>Indian Institute  of Technology Bhubaneswar</td>\n",
       "      <td>Civil Engineering (4 Years, Bachelor of Techno...</td>\n",
       "      <td>SC</td>\n",
       "      <td>NaN</td>\n",
       "      <td>663</td>\n",
       "      <td>1023</td>\n",
       "      <td>2016</td>\n",
       "      <td>1</td>\n",
       "      <td>False</td>\n",
       "      <td>IIT</td>\n",
       "    </tr>\n",
       "    <tr>\n",
       "      <th>3</th>\n",
       "      <td>Indian Institute  of Technology Bhubaneswar</td>\n",
       "      <td>Civil Engineering (4 Years, Bachelor of Techno...</td>\n",
       "      <td>ST</td>\n",
       "      <td>NaN</td>\n",
       "      <td>331</td>\n",
       "      <td>357</td>\n",
       "      <td>2016</td>\n",
       "      <td>1</td>\n",
       "      <td>False</td>\n",
       "      <td>IIT</td>\n",
       "    </tr>\n",
       "    <tr>\n",
       "      <th>4</th>\n",
       "      <td>Indian Institute  of Technology Bhubaneswar</td>\n",
       "      <td>Civil Engineering and M. Tech. in Structural E...</td>\n",
       "      <td>OPEN</td>\n",
       "      <td>NaN</td>\n",
       "      <td>5408</td>\n",
       "      <td>6561</td>\n",
       "      <td>2016</td>\n",
       "      <td>1</td>\n",
       "      <td>False</td>\n",
       "      <td>IIT</td>\n",
       "    </tr>\n",
       "  </tbody>\n",
       "</table>\n",
       "</div>"
      ],
      "text/plain": [
       "                                     Institute  \\\n",
       "0  Indian Institute  of Technology Bhubaneswar   \n",
       "1  Indian Institute  of Technology Bhubaneswar   \n",
       "2  Indian Institute  of Technology Bhubaneswar   \n",
       "3  Indian Institute  of Technology Bhubaneswar   \n",
       "4  Indian Institute  of Technology Bhubaneswar   \n",
       "\n",
       "                               Academic Program Name Seat Type Gender  \\\n",
       "0  Civil Engineering (4 Years, Bachelor of Techno...      OPEN    NaN   \n",
       "1  Civil Engineering (4 Years, Bachelor of Techno...   OBC-NCL    NaN   \n",
       "2  Civil Engineering (4 Years, Bachelor of Techno...        SC    NaN   \n",
       "3  Civil Engineering (4 Years, Bachelor of Techno...        ST    NaN   \n",
       "4  Civil Engineering and M. Tech. in Structural E...      OPEN    NaN   \n",
       "\n",
       "   Opening Rank  Closing Rank  Year  Round  Preparatory Institute_type  \n",
       "0          3533          5947  2016      1        False            IIT  \n",
       "1          1829          2213  2016      1        False            IIT  \n",
       "2           663          1023  2016      1        False            IIT  \n",
       "3           331           357  2016      1        False            IIT  \n",
       "4          5408          6561  2016      1        False            IIT  "
      ]
     },
     "execution_count": 45,
     "metadata": {},
     "output_type": "execute_result"
    }
   ],
   "source": [
    "df.head()"
   ]
  },
  {
   "cell_type": "code",
   "execution_count": null,
   "id": "1f718ca3",
   "metadata": {},
   "outputs": [],
   "source": []
  }
 ],
 "metadata": {
  "kernelspec": {
   "display_name": "Python 3 (ipykernel)",
   "language": "python",
   "name": "python3"
  },
  "language_info": {
   "codemirror_mode": {
    "name": "ipython",
    "version": 3
   },
   "file_extension": ".py",
   "mimetype": "text/x-python",
   "name": "python",
   "nbconvert_exporter": "python",
   "pygments_lexer": "ipython3",
   "version": "3.10.9"
  }
 },
 "nbformat": 4,
 "nbformat_minor": 5
}
